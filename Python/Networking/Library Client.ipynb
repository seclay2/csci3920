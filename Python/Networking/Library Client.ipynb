{
 "cells": [
  {
   "cell_type": "code",
   "execution_count": 10,
   "metadata": {},
   "outputs": [],
   "source": [
    "import socket"
   ]
  },
  {
   "cell_type": "code",
   "execution_count": 11,
   "metadata": {},
   "outputs": [],
   "source": [
    "\n",
    "# create a socket object\n",
    "client_socket = socket.socket(socket.AF_INET, socket.SOCK_STREAM) \n",
    "\n",
    "# connection to hostname on the port.\n",
    "client_socket.connect( ('localhost', 50000)) \n"
   ]
  },
  {
   "cell_type": "code",
   "execution_count": 13,
   "metadata": {},
   "outputs": [
    {
     "name": "stdout",
     "output_type": "stream",
     "text": [
      "Type a command (END to quit):END\n",
      "Client Ended\n"
     ]
    }
   ],
   "source": [
    "sentinel=\"RUN\"\n",
    "while sentinel == \"RUN\":\n",
    "    cmd = input(\"Type a command (END to quit):\")\n",
    "    if cmd == \"END\":\n",
    "        sentinel=\"END\"\n",
    "        print(\"Client Ended\")\n",
    "        client_socket.close()\n",
    "    else:\n",
    "        cmd += \"\\n\"\n",
    "        client_socket.send(cmd.encode(\"UTF-8\"))\n",
    "        response = client_socket.recv(1024).decode(\"UTF-8\")\n",
    "        print(\"Response is {}\".format(response))"
   ]
  },
  {
   "cell_type": "code",
   "execution_count": null,
   "metadata": {},
   "outputs": [],
   "source": []
  },
  {
   "cell_type": "code",
   "execution_count": null,
   "metadata": {},
   "outputs": [],
   "source": []
  },
  {
   "cell_type": "code",
   "execution_count": null,
   "metadata": {},
   "outputs": [],
   "source": []
  },
  {
   "cell_type": "code",
   "execution_count": null,
   "metadata": {},
   "outputs": [],
   "source": []
  },
  {
   "cell_type": "code",
   "execution_count": null,
   "metadata": {},
   "outputs": [],
   "source": []
  },
  {
   "cell_type": "code",
   "execution_count": null,
   "metadata": {},
   "outputs": [],
   "source": []
  },
  {
   "cell_type": "raw",
   "metadata": {},
   "source": [
    "\n",
    "# Receive no more than 1024 bytes    \n",
    "msg = client_socket.recv(1024)      \n",
    "\n",
    "client_socket.close()\n",
    "\n",
    "print (msg.decode('ascii'))\n",
    "\n"
   ]
  }
 ],
 "metadata": {
  "kernelspec": {
   "display_name": "Python 3",
   "language": "python",
   "name": "python3"
  },
  "language_info": {
   "codemirror_mode": {
    "name": "ipython",
    "version": 3
   },
   "file_extension": ".py",
   "mimetype": "text/x-python",
   "name": "python",
   "nbconvert_exporter": "python",
   "pygments_lexer": "ipython3",
   "version": "3.7.3"
  }
 },
 "nbformat": 4,
 "nbformat_minor": 2
}
